{
 "cells": [
  {
   "cell_type": "markdown",
   "id": "784216bf",
   "metadata": {},
   "source": [
    "## Imports"
   ]
  },
  {
   "cell_type": "code",
   "execution_count": null,
   "id": "e547b7a6",
   "metadata": {},
   "outputs": [],
   "source": [
    "import pandas as pd\n",
    "import numpy as np\n",
    "import matplotlib.pyplot as plt\n",
    "import seaborn as sns"
   ]
  },
  {
   "cell_type": "markdown",
   "id": "0f1c6d0b",
   "metadata": {},
   "source": [
    "## Read base dataset"
   ]
  },
  {
   "cell_type": "code",
   "execution_count": null,
   "id": "bc23709c",
   "metadata": {},
   "outputs": [],
   "source": [
    "data= pd.read_csv('Trips_2018.csv')"
   ]
  },
  {
   "cell_type": "markdown",
   "id": "5fcd704e",
   "metadata": {},
   "source": [
    "### Basic information"
   ]
  },
  {
   "cell_type": "code",
   "execution_count": null,
   "id": "896d13c2",
   "metadata": {},
   "outputs": [],
   "source": [
    "data.info()"
   ]
  },
  {
   "cell_type": "code",
   "execution_count": null,
   "id": "888b0684",
   "metadata": {},
   "outputs": [],
   "source": [
    "data.describe()"
   ]
  },
  {
   "cell_type": "code",
   "execution_count": null,
   "id": "6d5a6b60",
   "metadata": {},
   "outputs": [],
   "source": [
    "data.isnull().sum()"
   ]
  },
  {
   "cell_type": "markdown",
   "id": "0e60c220",
   "metadata": {},
   "source": [
    "### Convert data types"
   ]
  },
  {
   "cell_type": "code",
   "execution_count": null,
   "id": "716e9d71",
   "metadata": {},
   "outputs": [],
   "source": [
    "date_columns = [\"starttime\", \"stoptime\"]\n",
    "categorical_columns = [\"gender\", \"usertype\", \"start_station_id\", \"end_station_id\"]\n",
    "data[date_columns] = data[date_columns].apply(pd.to_datetime)\n",
    "data[categorical_columns] = data[categorical_columns].apply(lambda x: x.astype('category'))"
   ]
  },
  {
   "cell_type": "markdown",
   "id": "040c4af5",
   "metadata": {},
   "source": [
    "### Drop unnecesary column"
   ]
  },
  {
   "cell_type": "code",
   "execution_count": null,
   "id": "7e038eaf",
   "metadata": {},
   "outputs": [],
   "source": [
    "data = data.drop(columns=['Unnamed: 0'])"
   ]
  },
  {
   "cell_type": "code",
   "execution_count": null,
   "id": "418051f1",
   "metadata": {},
   "outputs": [],
   "source": [
    "data.info()"
   ]
  },
  {
   "cell_type": "code",
   "execution_count": null,
   "id": "6b2d3a60",
   "metadata": {},
   "outputs": [],
   "source": [
    "data.head()"
   ]
  },
  {
   "cell_type": "code",
   "execution_count": null,
   "id": "1df62b62",
   "metadata": {},
   "outputs": [],
   "source": [
    "data = data.sort_values(by='starttime').reset_index(drop=True)"
   ]
  },
  {
   "cell_type": "markdown",
   "id": "b74d5d2d",
   "metadata": {},
   "source": [
    "### Add date information"
   ]
  },
  {
   "cell_type": "code",
   "execution_count": null,
   "id": "8a0d720f",
   "metadata": {},
   "outputs": [],
   "source": [
    "data[\"pickup_hour\"] = data[\"starttime\"].dt.hour\n",
    "data[\"pickup_day\"] = data[\"starttime\"].dt.date\n",
    "data[\"dropoff_hour\"] = data[\"stoptime\"].dt.hour\n",
    "data[\"dropoff_day\"] = data[\"stoptime\"].dt.date"
   ]
  },
  {
   "cell_type": "code",
   "execution_count": null,
   "id": "c1b874d6",
   "metadata": {},
   "outputs": [],
   "source": [
    "display(data.head())"
   ]
  },
  {
   "cell_type": "markdown",
   "id": "3152e082",
   "metadata": {},
   "source": [
    "### Extracting all distinct stations and cleaning"
   ]
  },
  {
   "cell_type": "code",
   "execution_count": null,
   "id": "7f430365",
   "metadata": {},
   "outputs": [],
   "source": [
    "# extract distinct stations\n",
    "stations_start = data[['start_station_id', 'start_station_latitude', 'start_station_longitude']].drop_duplicates().rename(columns={\n",
    "    'start_station_id': 'station_id',\n",
    "    'start_station_latitude': 'station_latitude',\n",
    "    'start_station_longitude': 'station_longitude'\n",
    "})\n",
    "\n",
    "stations_end = data[['end_station_id', 'end_station_latitude', 'end_station_longitude']].drop_duplicates().rename(columns={\n",
    "    'end_station_id': 'station_id',\n",
    "    'end_station_latitude': 'station_latitude',\n",
    "    'end_station_longitude': 'station_longitude'\n",
    "})\n",
    "\n",
    "stations = pd.concat([stations_start, stations_end]).drop_duplicates().reset_index(drop=True)\n",
    "\n",
    "start_stations_set = set(stations_start['station_id'])\n",
    "end_stations_set = set(stations_end['station_id'])\n",
    "\n",
    "def categorize_station(station_id):\n",
    "    in_start = station_id in start_stations_set\n",
    "    in_end = station_id in end_stations_set\n",
    "    \n",
    "    if in_start and in_end:\n",
    "        return 'both'\n",
    "    elif in_start:\n",
    "        return 'start'\n",
    "    elif in_end:\n",
    "        return 'end'\n",
    "    else:\n",
    "        return 'No station id'  # if station doesn't appear in either\n",
    "\n",
    "# Add category column to stations DataFrame\n",
    "stations['category'] = stations['station_id'].apply(categorize_station)\n",
    "\n",
    "\n",
    "stations.info()"
   ]
  },
  {
   "cell_type": "code",
   "execution_count": null,
   "id": "4428d14c",
   "metadata": {},
   "outputs": [],
   "source": [
    "stations.describe()"
   ]
  },
  {
   "cell_type": "code",
   "execution_count": null,
   "id": "8aad5b03",
   "metadata": {},
   "outputs": [],
   "source": [
    "outlier_stations = stations[stations['station_latitude'] >= 41]\n",
    "outlier_stations.info()\n",
    "outlier_stations.head()"
   ]
  },
  {
   "cell_type": "code",
   "execution_count": null,
   "id": "0d1394b9",
   "metadata": {},
   "outputs": [],
   "source": [
    "# remove outlier based on latitude\n",
    "stations = stations[stations['station_latitude'] < 41]\n",
    "stations_start = stations_start[stations_start['station_latitude'] < 41]\n",
    "stations_end = stations_end[stations_end['station_latitude'] < 41]\n",
    "stations.describe()\n"
   ]
  },
  {
   "cell_type": "code",
   "execution_count": null,
   "id": "11459b14",
   "metadata": {},
   "outputs": [],
   "source": [
    "fig, ax = plt.subplots(figsize=(10, 8))\n",
    "sns.scatterplot(data=stations, x='station_longitude', y='station_latitude', hue='category')\n",
    "plt.show()"
   ]
  },
  {
   "cell_type": "markdown",
   "id": "e4d7f8a9",
   "metadata": {},
   "source": [
    "The orange category seems suspicious, they are categorized a s none, because they do not have a station_id, and they have a very regular pattern"
   ]
  },
  {
   "cell_type": "code",
   "execution_count": null,
   "id": "260d31de",
   "metadata": {},
   "outputs": [],
   "source": [
    "fig, ax = plt.subplots(figsize=(5, 4))\n",
    "sns.scatterplot(data=stations[stations['category'] == 'No station id'], x='station_longitude', y='station_latitude', hue='category')\n",
    "plt.show()"
   ]
  },
  {
   "cell_type": "code",
   "execution_count": null,
   "id": "087071fe",
   "metadata": {},
   "outputs": [],
   "source": [
    "stations = stations[stations['category'] != 'No station id']"
   ]
  },
  {
   "cell_type": "code",
   "execution_count": null,
   "id": "86694acb",
   "metadata": {},
   "outputs": [],
   "source": [
    "fig, ax = plt.subplots(figsize=(10, 8))\n",
    "sns.scatterplot(data=stations, x='station_longitude', y='station_latitude', hue='category')\n",
    "plt.show()"
   ]
  },
  {
   "cell_type": "code",
   "execution_count": null,
   "id": "39ede58e",
   "metadata": {},
   "outputs": [],
   "source": [
    "stations.info()"
   ]
  },
  {
   "cell_type": "markdown",
   "id": "e1124422",
   "metadata": {},
   "source": [
    "Lets use this new knowledge to exclude the trips originating/ending at the outlier and the stations that have no station id and looked like \"fake\" data"
   ]
  },
  {
   "cell_type": "code",
   "execution_count": null,
   "id": "633093ab",
   "metadata": {},
   "outputs": [],
   "source": [
    "data = data.dropna(subset=['start_station_id', 'end_station_id'])\n",
    "outlier_ids = outlier_stations['station_id'].tolist()\n",
    "for value_to_remove in outlier_ids:\n",
    "    mask_to_keep = (data['start_station_id'] != value_to_remove) & (data['end_station_id'] != value_to_remove)\n",
    "    data = data[mask_to_keep]"
   ]
  },
  {
   "cell_type": "code",
   "execution_count": null,
   "id": "e72868f2",
   "metadata": {},
   "outputs": [],
   "source": [
    "data.info()"
   ]
  },
  {
   "cell_type": "markdown",
   "id": "a27cf417",
   "metadata": {},
   "source": [
    "### Saving CSVs "
   ]
  },
  {
   "cell_type": "code",
   "execution_count": null,
   "id": "b41aa531",
   "metadata": {},
   "outputs": [],
   "source": [
    "data.to_csv('processed_trips_2018.csv', index=False)\n",
    "stations.to_csv('processed_stations_2018.csv', index=False)"
   ]
  }
 ],
 "metadata": {
  "kernelspec": {
   "display_name": "Python 3",
   "language": "python",
   "name": "python3"
  },
  "language_info": {
   "codemirror_mode": {
    "name": "ipython",
    "version": 3
   },
   "file_extension": ".py",
   "mimetype": "text/x-python",
   "name": "python",
   "nbconvert_exporter": "python",
   "pygments_lexer": "ipython3",
   "version": "3.14.0"
  }
 },
 "nbformat": 4,
 "nbformat_minor": 5
}
